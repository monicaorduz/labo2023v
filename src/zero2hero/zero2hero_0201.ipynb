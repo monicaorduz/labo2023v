{
 "cells": [
  {
   "cell_type": "markdown",
   "metadata": {},
   "source": [
    "# Zero to Hero"
   ]
  },
  {
   "cell_type": "markdown",
   "metadata": {},
   "source": [
    "## 2.01 Optimizacion Bayesiana"
   ]
  },
  {
   "cell_type": "raw",
   "metadata": {},
   "source": [
    "El objetivo es mostrar como funciona la Optimizacion Bayesiana en el caso mas simple : una funcion univariada"
   ]
  },
  {
   "cell_type": "markdown",
   "metadata": {},
   "source": [
    "### Advertencia"
   ]
  },
  {
   "cell_type": "markdown",
   "metadata": {},
   "source": [
    "El uso del método de Optimización Bayesiana para la optimización de hiperparámetros en modelos predictivos tiene menos de una década.\n",
    "Entender los fundamentos de la O.B. requieren de una sólida formación matemática y **no** son el objetivo de esta asignatura.\n",
    "Para quienes deseen aventurarse a los detalles técnicos:\n",
    "* El paper original de la libreria mlrMBO (año 2018 )   https://arxiv.org/pdf/1703.03373.pdf\n",
    "* El método de Kriging , tal cual se deriva del uso original, en este pequeño libro de 106 páginas \"Basic Steps in Geostatistics: The Variogram and Kriging\" https://www.pdfdrive.com/basic-steps-in-geostatistics-the-variogram-and-kriging-e187336318.html"
   ]
  },
  {
   "cell_type": "markdown",
   "metadata": {},
   "source": [
    "### El código"
   ]
  },
  {
   "cell_type": "code",
   "execution_count": 2,
   "metadata": {
    "tags": [],
    "vscode": {
     "languageId": "r"
    }
   },
   "outputs": [
    {
     "data": {
      "text/html": [
       "<table class=\"dataframe\">\n",
       "<caption>A matrix: 2 × 6 of type dbl</caption>\n",
       "<thead>\n",
       "\t<tr><th></th><th scope=col>used</th><th scope=col>(Mb)</th><th scope=col>gc trigger</th><th scope=col>(Mb)</th><th scope=col>max used</th><th scope=col>(Mb)</th></tr>\n",
       "</thead>\n",
       "<tbody>\n",
       "\t<tr><th scope=row>Ncells</th><td>2083240</td><td>111.3</td><td>4281477</td><td>228.7</td><td>2518102</td><td>134.5</td></tr>\n",
       "\t<tr><th scope=row>Vcells</th><td>3515829</td><td> 26.9</td><td>8388608</td><td> 64.0</td><td>6734285</td><td> 51.4</td></tr>\n",
       "</tbody>\n",
       "</table>\n"
      ],
      "text/latex": [
       "A matrix: 2 × 6 of type dbl\n",
       "\\begin{tabular}{r|llllll}\n",
       "  & used & (Mb) & gc trigger & (Mb) & max used & (Mb)\\\\\n",
       "\\hline\n",
       "\tNcells & 2083240 & 111.3 & 4281477 & 228.7 & 2518102 & 134.5\\\\\n",
       "\tVcells & 3515829 &  26.9 & 8388608 &  64.0 & 6734285 &  51.4\\\\\n",
       "\\end{tabular}\n"
      ],
      "text/markdown": [
       "\n",
       "A matrix: 2 × 6 of type dbl\n",
       "\n",
       "| <!--/--> | used | (Mb) | gc trigger | (Mb) | max used | (Mb) |\n",
       "|---|---|---|---|---|---|---|\n",
       "| Ncells | 2083240 | 111.3 | 4281477 | 228.7 | 2518102 | 134.5 |\n",
       "| Vcells | 3515829 |  26.9 | 8388608 |  64.0 | 6734285 |  51.4 |\n",
       "\n"
      ],
      "text/plain": [
       "       used    (Mb)  gc trigger (Mb)  max used (Mb) \n",
       "Ncells 2083240 111.3 4281477    228.7 2518102  134.5\n",
       "Vcells 3515829  26.9 8388608     64.0 6734285   51.4"
      ]
     },
     "metadata": {},
     "output_type": "display_data"
    }
   ],
   "source": [
    "#Ejemplo de optimizacion bayesiana, univariada\n",
    "\n",
    "#limpio la memoria\n",
    "rm( list=ls() )  #remove all objects\n",
    "gc()             #garbage collection\n",
    "\n",
    "require(\"data.table\")\n",
    "#paquetes necesarios para la Bayesian Optimization\n",
    "require(\"DiceKriging\")\n",
    "require(\"mlrMBO\")\n",
    "\n",
    "options(repr.plot.width=20, repr.plot.height=10)"
   ]
  },
  {
   "cell_type": "markdown",
   "metadata": {},
   "source": [
    "### Defino la funcion a optimizar, un polinomio de grado 4"
   ]
  },
  {
   "cell_type": "code",
   "execution_count": 3,
   "metadata": {
    "tags": [],
    "vscode": {
     "languageId": "r"
    }
   },
   "outputs": [],
   "source": [
    "func_univariada01  <- function( x )\n",
    "{\n",
    "  y  <- -2 * (x+13) * (x-3) * (x-7) * (x-19)\n",
    "\n",
    "  return( y )\n",
    "}"
   ]
  },
  {
   "cell_type": "markdown",
   "metadata": {},
   "source": [
    "Grafico la funcion"
   ]
  },
  {
   "cell_type": "code",
   "execution_count": 4,
   "metadata": {
    "tags": [],
    "vscode": {
     "languageId": "r"
    }
   },
   "outputs": [
    {
     "data": {
      "image/png": "[encoded data removed]",
      "text/plain": [
       "plot without title"
      ]
     },
     "metadata": {
      "image/png": {
       "height": 600,
       "width": 1200
      }
     },
     "output_type": "display_data"
    }
   ],
   "source": [
    "intervalo  <- seq(-15,21,0.1)\n",
    "plot(intervalo, func_univariada01(intervalo))"
   ]
  },
  {
   "cell_type": "markdown",
   "metadata": {},
   "source": [
    "La funcion tiene dos máximos, uno de ellos es el global."
   ]
  },
  {
   "cell_type": "markdown",
   "metadata": {},
   "source": [
    "### Optimizacion Bayesiana"
   ]
  },
  {
   "cell_type": "markdown",
   "metadata": {},
   "source": [
    "¿Qué tan rápido encontrará la Optmización Bayesiana el máximo global?"
   ]
  },
  {
   "cell_type": "markdown",
   "metadata": {},
   "source": [
    "Defino las caracteristicas de la optimizacion"
   ]
  },
  {
   "cell_type": "markdown",
   "metadata": {},
   "source": [
    "* **fn**    es el nombre de la funcion\n",
    "* **minimize**   por defecto es TRUE,  pero en este caso le asigno FALSE, ya que deseo maximizar  el valor\n",
    "* **par.set**  indica cuales son los hiperparmetros de la funcion, en este caso hay una sola variable que llamé  x\n",
    "---\n",
    "* **makeNumericParam** indica que ese hiperparámetro es un numero real, una variable continua  ( no es ni un entero ni una categoria )"
   ]
  },
  {
   "cell_type": "code",
   "execution_count": 5,
   "metadata": {
    "tags": [],
    "vscode": {
     "languageId": "r"
    }
   },
   "outputs": [],
   "source": [
    "obj.fun  <- makeSingleObjectiveFunction(\n",
    "              fn=       func_univariada01,\n",
    "              minimize= FALSE,   #estoy Maximizando la ganancia\n",
    "              par.set=  makeParamSet(  makeNumericParam( \"x\", lower= -100, upper=  100) ),\n",
    "             )"
   ]
  },
  {
   "cell_type": "markdown",
   "metadata": {},
   "source": [
    "ahora defino la funcion proxy, la que se construye internamente intentando emular la realidad"
   ]
  },
  {
   "cell_type": "markdown",
   "metadata": {},
   "source": [
    "* **cl**  es la clase de learner,  \"reg.km\" indica el método de kriging \"**reg**ression **k**riging **m**ethodd\"\n",
    "* **predict.type**  es el tipo de prediccion que deseo me devuelva, \"se\" significa que espero dos valores  media y standard error\n",
    "* **covtype**    es la funcion de covarianza que se va a utilizar, cual es la covarianza de dos mediciones como fucion de la distancia entre los puntos donde fueron tomadas las mediciones, fue inventada por Bertil Matérn "
   ]
  },
  {
   "cell_type": "markdown",
   "metadata": {},
   "source": [
    "El método de kriging puede verse en su forma original (la geología) , esta presentación https://www.youtube.com/watch?v=ZB7GvJrNKq0"
   ]
  },
  {
   "cell_type": "code",
   "execution_count": 6,
   "metadata": {
    "tags": [],
    "vscode": {
     "languageId": "r"
    }
   },
   "outputs": [],
   "source": [
    "fproxy  <- makeLearner( cl= \"regr.km\",\n",
    "                        predict.type= \"se\", \n",
    "                        covtype= \"matern3_2\" )"
   ]
  },
  {
   "cell_type": "markdown",
   "metadata": {},
   "source": [
    "ultima definicion,  especificar la optimizacion bayesiana\n",
    "*  **crit**   indica el criterio con el que se completan los valores iniciales \"no inteligentes\"\n",
    "*  **iters**  indica la cantidad de iteraciones inteligentes que hará la Optimizacion Bayesiana, las que son adicionales a las primeras cuatro de este caso.*  **iters**  indica la cantidad de iteraciones inteligentes que hará la Optimizacion Bayesiana, las que son adicionales a las primeras cuatro de este caso."
   ]
  },
  {
   "cell_type": "code",
   "execution_count": 7,
   "metadata": {
    "tags": [],
    "vscode": {
     "languageId": "r"
    }
   },
   "outputs": [],
   "source": [
    "ctrl  <- makeMBOControl()\n",
    "ctrl  <- setMBOControlInfill( ctrl, crit= makeMBOInfillCritEI())\n",
    "ctrl  <- setMBOControlTermination( ctrl, iters= 25 )"
   ]
  },
  {
   "cell_type": "markdown",
   "metadata": {},
   "source": [
    "finalmente , lanzo la Optimizacion Bayesiana"
   ]
  },
  {
   "cell_type": "markdown",
   "metadata": {},
   "source": [
    "* **fun**  es la especificacion de la funcion que deseo optimizar, si maximizo o minimizo, cuales son las variables de la misma\n",
    "* **learner**  especifica cual es la función proxy interna que va a utilizar la Optimziación Bayesiana\n",
    "* **control**  indica la la forma en que se harán las iteraciones"
   ]
  },
  {
   "cell_type": "code",
   "execution_count": 8,
   "metadata": {
    "tags": [],
    "vscode": {
     "languageId": "r"
    }
   },
   "outputs": [
    {
     "name": "stderr",
     "output_type": "stream",
     "text": [
      "Computing y column(s) for design. Not provided.\n",
      "\n",
      "[mbo] 0: x=-0.0827 : y = 1.08e+04 : 0.0 secs : initdesign\n",
      "\n",
      "[mbo] 0: x=19.8 : y = -1.18e+04 : 0.0 secs : initdesign\n",
      "\n",
      "[mbo] 0: x=77.6 : y = -5.6e+07 : 0.0 secs : initdesign\n",
      "\n",
      "[mbo] 0: x=-83.2 : y = -1.12e+08 : 0.0 secs : initdesign\n",
      "\n"
     ]
    },
    {
     "name": "stdout",
     "output_type": "stream",
     "text": [
      "\n",
      "optimisation start\n",
      "------------------\n",
      "* estimation method   : MLE \n",
      "* optimisation method : BFGS \n",
      "* analytical gradient : used\n",
      "* trend model : ~1\n",
      "* covariance model : \n",
      "  - type :  matern3_2 \n",
      "  - nugget : NO\n",
      "  - parameters lower bounds :  1e-10 \n",
      "  - parameters upper bounds :  321.6801 \n",
      "  - best initial criterion value(s) :  -75.47711 \n",
      "\n",
      "N = 1, M = 5 machine precision = 2.22045e-16\n",
      "At X0, 0 variables are exactly at the bounds\n",
      "At iterate     0  f=       75.477  |proj g|=    0.0019178\n",
      "At iterate     1  f =       75.477  |proj g|=     0.0019169\n",
      "At iterate     2  f =       75.474  |proj g|=    0.00024201\n",
      "At iterate     3  f =       75.473  |proj g|=    2.5576e-05\n",
      "At iterate     4  f =       75.473  |proj g|=     2.961e-07\n",
      "At iterate     5  f =       75.473  |proj g|=    3.6835e-10\n",
      "\n",
      "iterations 5\n",
      "function evaluations 6\n",
      "segments explored during Cauchy searches 5\n",
      "BFGS updates skipped 0\n",
      "active bounds at final generalized Cauchy point 0\n",
      "norm of the final projected gradient 3.68352e-10\n",
      "final function value 75.4735\n",
      "\n",
      "F = 75.4735\n",
      "final  value 75.473465 \n",
      "converged\n"
     ]
    },
    {
     "name": "stderr",
     "output_type": "stream",
     "text": [
      "[mbo] 1: x=9.72 : y = 7.71e+03 : 0.0 secs : infill_ei\n",
      "\n"
     ]
    },
    {
     "name": "stdout",
     "output_type": "stream",
     "text": [
      "\n",
      "optimisation start\n",
      "------------------\n",
      "* estimation method   : MLE \n",
      "* optimisation method : BFGS \n",
      "* analytical gradient : used\n",
      "* trend model : ~1\n",
      "* covariance model : \n",
      "  - type :  matern3_2 \n",
      "  - nugget : NO\n",
      "  - parameters lower bounds :  1e-10 \n",
      "  - parameters upper bounds :  321.6801 \n",
      "  - best initial criterion value(s) :  -91.94909 \n",
      "\n",
      "N = 1, M = 5 machine precision = 2.22045e-16\n",
      "At X0, 0 variables are exactly at the bounds\n",
      "At iterate     0  f=       91.949  |proj g|=    0.0011888\n",
      "At iterate     1  f =       91.949  |proj g|=     0.0011885\n",
      "At iterate     2  f =       91.947  |proj g|=    0.00013785\n",
      "At iterate     3  f =       91.947  |proj g|=    1.3741e-05\n",
      "At iterate     4  f =       91.947  |proj g|=    1.4065e-07\n",
      "At iterate     5  f =       91.947  |proj g|=    1.4542e-10\n",
      "\n",
      "iterations 5\n",
      "function evaluations 6\n",
      "segments explored during Cauchy searches 5\n",
      "BFGS updates skipped 0\n",
      "active bounds at final generalized Cauchy point 0\n",
      "norm of the final projected gradient 1.45417e-10\n",
      "final function value 91.9465\n",
      "\n",
      "F = 91.9465\n",
      "final  value 91.946520 \n",
      "converged\n"
     ]
    },
    {
     "name": "stderr",
     "output_type": "stream",
     "text": [
      "[mbo] 2: x=32.3 : y = -8.95e+05 : 0.0 secs : infill_ei\n",
      "\n"
     ]
    },
    {
     "name": "stdout",
     "output_type": "stream",
     "text": [
      "\n",
      "optimisation start\n",
      "------------------\n",
      "* estimation method   : MLE \n",
      "* optimisation method : BFGS \n",
      "* analytical gradient : used\n",
      "* trend model : ~1\n",
      "* covariance model : \n",
      "  - type :  matern3_2 \n",
      "  - nugget : NO\n",
      "  - parameters lower bounds :  1e-10 \n",
      "  - parameters upper bounds :  321.6801 \n",
      "  - best initial criterion value(s) :  -108.9347 \n",
      "\n",
      "N = 1, M = 5 machine precision = 2.22045e-16\n",
      "At X0, 0 variables are exactly at the bounds\n",
      "At iterate     0  f=       108.93  |proj g|=    0.0011522\n",
      "At iterate     1  f =       108.93  |proj g|=     0.0011519\n",
      "At iterate     2  f =       108.93  |proj g|=    9.7488e-05\n",
      "At iterate     3  f =       108.93  |proj g|=    9.1683e-06\n",
      "At iterate     4  f =       108.93  |proj g|=    8.2693e-08\n",
      "\n",
      "iterations 4\n",
      "function evaluations 5\n",
      "segments explored during Cauchy searches 4\n",
      "BFGS updates skipped 0\n",
      "active bounds at final generalized Cauchy point 0\n",
      "norm of the final projected gradient 8.26934e-08\n",
      "final function value 108.932\n",
      "\n",
      "F = 108.932\n",
      "final  value 108.931929 \n",
      "converged\n"
     ]
    },
    {
     "name": "stderr",
     "output_type": "stream",
     "text": [
      "[mbo] 3: x=26 : y = -2.38e+05 : 0.0 secs : infill_ei\n",
      "\n"
     ]
    },
    {
     "name": "stdout",
     "output_type": "stream",
     "text": [
      "\n",
      "optimisation start\n",
      "------------------\n",
      "* estimation method   : MLE \n",
      "* optimisation method : BFGS \n",
      "* analytical gradient : used\n",
      "* trend model : ~1\n",
      "* covariance model : \n",
      "  - type :  matern3_2 \n",
      "  - nugget : NO\n",
      "  - parameters lower bounds :  1e-10 \n",
      "  - parameters upper bounds :  321.6801 \n",
      "  - best initial criterion value(s) :  -123.9665 \n",
      "\n",
      "N = 1, M = 5 machine precision = 2.22045e-16\n",
      "At X0, 0 variables are exactly at the bounds\n",
      "At iterate     0  f=       123.97  |proj g|=    0.0014989\n",
      "At iterate     1  f =       123.97  |proj g|=     0.0014987\n",
      "At iterate     2  f =       123.96  |proj g|=    0.00052315\n",
      "At iterate     3  f =       123.95  |proj g|=    0.00011681\n",
      "At iterate     4  f =       123.95  |proj g|=    7.1357e-06\n",
      "At iterate     5  f =       123.95  |proj g|=    1.0546e-07\n",
      "\n",
      "iterations 5\n",
      "function evaluations 6\n",
      "segments explored during Cauchy searches 5\n",
      "BFGS updates skipped 0\n",
      "active bounds at final generalized Cauchy point 0\n",
      "norm of the final projected gradient 1.05459e-07\n",
      "final function value 123.954\n",
      "\n",
      "F = 123.954\n",
      "final  value 123.954410 \n",
      "converged\n"
     ]
    },
    {
     "name": "stderr",
     "output_type": "stream",
     "text": [
      "[mbo] 4: x=4.14 : y = -1.66e+03 : 0.0 secs : infill_ei\n",
      "\n"
     ]
    },
    {
     "name": "stdout",
     "output_type": "stream",
     "text": [
      "\n",
      "optimisation start\n",
      "------------------\n",
      "* estimation method   : MLE \n",
      "* optimisation method : BFGS \n",
      "* analytical gradient : used\n",
      "* trend model : ~1\n",
      "* covariance model : \n",
      "  - type :  matern3_2 \n",
      "  - nugget : NO\n",
      "  - parameters lower bounds :  1e-10 \n",
      "  - parameters upper bounds :  321.6801 \n",
      "  - best initial criterion value(s) :  -138.4903 \n",
      "\n",
      "N = 1, M = 5 machine precision = 2.22045e-16\n",
      "At X0, 0 variables are exactly at the bounds\n",
      "At iterate     0  f=       138.49  |proj g|=   0.00030427\n",
      "At iterate     1  f =       138.49  |proj g|=    0.00030424\n",
      "\n",
      "iterations 1\n",
      "function evaluations 2\n",
      "segments explored during Cauchy searches 1\n",
      "BFGS updates skipped 0\n",
      "active bounds at final generalized Cauchy point 0\n",
      "norm of the final projected gradient 0.000304239\n",
      "final function value 138.49\n",
      "\n",
      "F = 138.49\n",
      "final  value 138.490328 \n",
      "converged\n"
     ]
    },
    {
     "name": "stderr",
     "output_type": "stream",
     "text": [
      "[mbo] 5: x=14.8 : y = 2.15e+04 : 0.0 secs : infill_ei\n",
      "\n"
     ]
    },
    {
     "name": "stdout",
     "output_type": "stream",
     "text": [
      "\n",
      "optimisation start\n",
      "------------------\n",
      "* estimation method   : MLE \n",
      "* optimisation method : BFGS \n",
      "* analytical gradient : used\n",
      "* trend model : ~1\n",
      "* covariance model : \n",
      "  - type :  matern3_2 \n",
      "  - nugget : NO\n",
      "  - parameters lower bounds :  1e-10 \n",
      "  - parameters upper bounds :  321.6801 \n",
      "  - best initial criterion value(s) :  -152.6577 \n",
      "\n",
      "N = 1, M = 5 machine precision = 2.22045e-16\n",
      "At X0, 0 variables are exactly at the bounds\n",
      "At iterate     0  f=       152.66  |proj g|=   0.00041962\n",
      "At iterate     1  f =       152.66  |proj g|=     0.0004196\n",
      "\n",
      "iterations 1\n",
      "function evaluations 2\n",
      "segments explored during Cauchy searches 1\n",
      "BFGS updates skipped 0\n",
      "active bounds at final generalized Cauchy point 0\n",
      "norm of the final projected gradient 0.000419597\n",
      "final function value 152.658\n",
      "\n",
      "F = 152.658\n",
      "final  value 152.657674 \n",
      "converged\n"
     ]
    },
    {
     "name": "stderr",
     "output_type": "stream",
     "text": [
      "[mbo] 6: x=-9.45 : y = 4.14e+04 : 0.0 secs : infill_ei\n",
      "\n"
     ]
    },
    {
     "name": "stdout",
     "output_type": "stream",
     "text": [
      "\n",
      "optimisation start\n",
      "------------------\n",
      "* estimation method   : MLE \n",
      "* optimisation method : BFGS \n",
      "* analytical gradient : used\n",
      "* trend model : ~1\n",
      "* covariance model : \n",
      "  - type :  matern3_2 \n",
      "  - nugget : NO\n",
      "  - parameters lower bounds :  1e-10 \n",
      "  - parameters upper bounds :  321.6801 \n",
      "  - best initial criterion value(s) :  -169.0696 \n",
      "\n",
      "N = 1, M = 5 machine precision = 2.22045e-16\n",
      "At X0, 0 variables are exactly at the bounds\n",
      "At iterate     0  f=       169.07  |proj g|=   4.6532e-05\n",
      "At iterate     1  f =       169.07  |proj g|=     4.653e-05\n",
      "\n",
      "iterations 1\n",
      "function evaluations 2\n",
      "segments explored during Cauchy searches 1\n",
      "BFGS updates skipped 0\n",
      "active bounds at final generalized Cauchy point 0\n",
      "norm of the final projected gradient 4.65295e-05\n",
      "final function value 169.07\n",
      "\n",
      "F = 169.07\n",
      "final  value 169.069621 \n",
      "converged\n"
     ]
    },
    {
     "name": "stderr",
     "output_type": "stream",
     "text": [
      "[mbo] 7: x=-5.7 : y = 3.99e+04 : 0.0 secs : infill_ei\n",
      "\n"
     ]
    },
    {
     "name": "stdout",
     "output_type": "stream",
     "text": [
      "\n",
      "optimisation start\n",
      "------------------\n",
      "* estimation method   : MLE \n",
      "* optimisation method : BFGS \n",
      "* analytical gradient : used\n",
      "* trend model : ~1\n",
      "* covariance model : \n",
      "  - type :  matern3_2 \n",
      "  - nugget : NO\n",
      "  - parameters lower bounds :  1e-10 \n",
      "  - parameters upper bounds :  321.6801 \n",
      "  - best initial criterion value(s) :  -183.2559 \n",
      "\n",
      "N = 1, M = 5 machine precision = 2.22045e-16\n",
      "At X0, 0 variables are exactly at the bounds\n",
      "At iterate     0  f=       183.26  |proj g|=   0.00045418\n",
      "At iterate     1  f =       183.26  |proj g|=    0.00045417\n",
      "\n",
      "iterations 1\n",
      "function evaluations 2\n",
      "segments explored during Cauchy searches 1\n",
      "BFGS updates skipped 0\n",
      "active bounds at final generalized Cauchy point 0\n",
      "norm of the final projected gradient 0.00045417\n",
      "final function value 183.256\n",
      "\n",
      "F = 183.256\n",
      "final  value 183.255926 \n",
      "converged\n"
     ]
    },
    {
     "name": "stderr",
     "output_type": "stream",
     "text": [
      "[mbo] 8: x=-15.9 : y = -8.56e+04 : 0.0 secs : infill_ei\n",
      "\n"
     ]
    },
    {
     "name": "stdout",
     "output_type": "stream",
     "text": [
      "\n",
      "optimisation start\n",
      "------------------\n",
      "* estimation method   : MLE \n",
      "* optimisation method : BFGS \n",
      "* analytical gradient : used\n",
      "* trend model : ~1\n",
      "* covariance model : \n",
      "  - type :  matern3_2 \n",
      "  - nugget : NO\n",
      "  - parameters lower bounds :  1e-10 \n",
      "  - parameters upper bounds :  321.6801 \n",
      "  - best initial criterion value(s) :  -199.0818 \n",
      "\n",
      "N = 1, M = 5 machine precision = 2.22045e-16\n",
      "At X0, 0 variables are exactly at the bounds\n",
      "At iterate     0  f=       199.08  |proj g|=   0.00012099\n",
      "At iterate     1  f =       199.08  |proj g|=    0.00012099\n",
      "\n",
      "iterations 1\n",
      "function evaluations 2\n",
      "segments explored during Cauchy searches 1\n",
      "BFGS updates skipped 0\n",
      "active bounds at final generalized Cauchy point 0\n",
      "norm of the final projected gradient 0.000120988\n",
      "final function value 199.082\n",
      "\n",
      "F = 199.082\n",
      "final  value 199.081757 \n",
      "converged\n"
     ]
    },
    {
     "name": "stderr",
     "output_type": "stream",
     "text": [
      "[mbo] 9: x=-12.9 : y = 2.18e+03 : 0.0 secs : infill_ei\n",
      "\n"
     ]
    },
    {
     "name": "stdout",
     "output_type": "stream",
     "text": [
      "\n",
      "optimisation start\n",
      "------------------\n",
      "* estimation method   : MLE \n",
      "* optimisation method : BFGS \n",
      "* analytical gradient : used\n",
      "* trend model : ~1\n",
      "* covariance model : \n",
      "  - type :  matern3_2 \n",
      "  - nugget : NO\n",
      "  - parameters lower bounds :  1e-10 \n",
      "  - parameters upper bounds :  321.6801 \n",
      "  - best initial criterion value(s) :  -212.6416 \n",
      "\n",
      "N = 1, M = 5 machine precision = 2.22045e-16\n",
      "At X0, 0 variables are exactly at the bounds\n",
      "At iterate     0  f=       212.64  |proj g|=   6.9028e-06\n",
      "At iterate     1  f =       212.64  |proj g|=    6.9028e-06\n",
      "\n",
      "iterations 1\n",
      "function evaluations 18\n",
      "segments explored during Cauchy searches 1\n",
      "BFGS updates skipped 0\n",
      "active bounds at final generalized Cauchy point 0\n",
      "norm of the final projected gradient 6.9028e-06\n",
      "final function value 212.642\n",
      "\n",
      "F = 212.642\n",
      "Warning:  more than 10 function and gradient evaluations\n",
      "   in the last line search\n",
      "final  value 212.641564 \n",
      "converged\n"
     ]
    },
    {
     "name": "stderr",
     "output_type": "stream",
     "text": [
      "[mbo] 10: x=-2.99 : y = 2.63e+04 : 0.0 secs : infill_ei\n",
      "\n"
     ]
    },
    {
     "name": "stdout",
     "output_type": "stream",
     "text": [
      "\n",
      "optimisation start\n",
      "------------------\n",
      "* estimation method   : MLE \n",
      "* optimisation method : BFGS \n",
      "* analytical gradient : used\n",
      "* trend model : ~1\n",
      "* covariance model : \n",
      "  - type :  matern3_2 \n",
      "  - nugget : NO\n",
      "  - parameters lower bounds :  1e-10 \n",
      "  - parameters upper bounds :  321.6801 \n",
      "  - best initial criterion value(s) :  -225.7082 \n",
      "\n",
      "N = 1, M = 5 machine precision = 2.22045e-16\n",
      "At X0, 0 variables are exactly at the bounds\n",
      "At iterate     0  f=       225.71  |proj g|=   0.00011494\n",
      "At iterate     1  f =       225.71  |proj g|=    0.00011494\n",
      "\n",
      "iterations 1\n",
      "function evaluations 2\n",
      "segments explored during Cauchy searches 1\n",
      "BFGS updates skipped 0\n",
      "active bounds at final generalized Cauchy point 0\n",
      "norm of the final projected gradient 0.000114942\n",
      "final function value 225.708\n",
      "\n",
      "F = 225.708\n",
      "final  value 225.708173 \n",
      "converged\n"
     ]
    },
    {
     "name": "stderr",
     "output_type": "stream",
     "text": [
      "[mbo] 11: x=17.3 : y = 1.54e+04 : 0.0 secs : infill_ei\n",
      "\n"
     ]
    },
    {
     "name": "stdout",
     "output_type": "stream",
     "text": [
      "\n",
      "optimisation start\n",
      "------------------\n",
      "* estimation method   : MLE \n",
      "* optimisation method : BFGS \n",
      "* analytical gradient : used\n",
      "* trend model : ~1\n",
      "* covariance model : \n",
      "  - type :  matern3_2 \n",
      "  - nugget : NO\n",
      "  - parameters lower bounds :  1e-10 \n",
      "  - parameters upper bounds :  321.6801 \n",
      "  - best initial criterion value(s) :  -238.6521 \n",
      "\n",
      "N = 1, M = 5 machine precision = 2.22045e-16\n",
      "At X0, 0 variables are exactly at the bounds\n",
      "At iterate     0  f=       238.65  |proj g|=    0.0010971\n",
      "At iterate     1  f =       238.65  |proj g|=     0.0010971\n",
      "At iterate     2  f =       238.64  |proj g|=             0\n",
      "\n",
      "iterations 2\n",
      "function evaluations 3\n",
      "segments explored during Cauchy searches 2\n",
      "BFGS updates skipped 0\n",
      "active bounds at final generalized Cauchy point 1\n",
      "norm of the final projected gradient 0\n",
      "final function value 238.637\n",
      "\n",
      "F = 238.637\n",
      "final  value 238.637098 \n",
      "converged\n"
     ]
    },
    {
     "name": "stderr",
     "output_type": "stream",
     "text": [
      "[mbo] 12: x=6.99 : y = -17.5 : 0.0 secs : infill_ei\n",
      "\n"
     ]
    },
    {
     "name": "stdout",
     "output_type": "stream",
     "text": [
      "\n",
      "optimisation start\n",
      "------------------\n",
      "* estimation method   : MLE \n",
      "* optimisation method : BFGS \n",
      "* analytical gradient : used\n",
      "* trend model : ~1\n",
      "* covariance model : \n",
      "  - type :  matern3_2 \n",
      "  - nugget : NO\n",
      "  - parameters lower bounds :  1e-10 \n",
      "  - parameters upper bounds :  321.6801 \n",
      "  - best initial criterion value(s) :  -251.7682 \n",
      "\n",
      "N = 1, M = 5 machine precision = 2.22045e-16\n",
      "At X0, 0 variables are exactly at the bounds\n",
      "At iterate     0  f=       251.77  |proj g|=    0.0035423\n",
      "At iterate     1  f =       251.77  |proj g|=     0.0035421\n",
      "At iterate     2  f =       251.64  |proj g|=             0\n",
      "\n",
      "iterations 2\n",
      "function evaluations 3\n",
      "segments explored during Cauchy searches 2\n",
      "BFGS updates skipped 0\n",
      "active bounds at final generalized Cauchy point 1\n",
      "norm of the final projected gradient 0\n",
      "final function value 251.636\n",
      "\n",
      "F = 251.636\n",
      "final  value 251.635657 \n",
      "converged\n"
     ]
    },
    {
     "name": "stderr",
     "output_type": "stream",
     "text": [
      "[mbo] 13: x=12.3 : y = 1.68e+04 : 0.0 secs : infill_ei\n",
      "\n"
     ]
    },
    {
     "name": "stdout",
     "output_type": "stream",
     "text": [
      "\n",
      "optimisation start\n",
      "------------------\n",
      "* estimation method   : MLE \n",
      "* optimisation method : BFGS \n",
      "* analytical gradient : used\n",
      "* trend model : ~1\n",
      "* covariance model : \n",
      "  - type :  matern3_2 \n",
      "  - nugget : NO\n",
      "  - parameters lower bounds :  1e-10 \n",
      "  - parameters upper bounds :  321.6801 \n",
      "  - best initial criterion value(s) :  -264.3988 \n",
      "\n",
      "N = 1, M = 5 machine precision = 2.22045e-16\n",
      "At X0, 0 variables are exactly at the bounds\n",
      "At iterate     0  f=        264.4  |proj g|=    0.0019718\n",
      "At iterate     1  f =        264.4  |proj g|=     0.0019717\n",
      "At iterate     2  f =       264.39  |proj g|=             0\n",
      "\n",
      "iterations 2\n",
      "function evaluations 3\n",
      "segments explored during Cauchy searches 2\n",
      "BFGS updates skipped 0\n",
      "active bounds at final generalized Cauchy point 1\n",
      "norm of the final projected gradient 0\n",
      "final function value 264.391\n",
      "\n",
      "F = 264.391\n",
      "final  value 264.391400 \n",
      "converged\n"
     ]
    },
    {
     "name": "stderr",
     "output_type": "stream",
     "text": [
      "[mbo] 14: x=-7.63 : y = 4.45e+04 : 0.0 secs : infill_ei\n",
      "\n"
     ]
    },
    {
     "name": "stdout",
     "output_type": "stream",
     "text": [
      "\n",
      "optimisation start\n",
      "------------------\n",
      "* estimation method   : MLE \n",
      "* optimisation method : BFGS \n",
      "* analytical gradient : used\n",
      "* trend model : ~1\n",
      "* covariance model : \n",
      "  - type :  matern3_2 \n",
      "  - nugget : NO\n",
      "  - parameters lower bounds :  1e-10 \n",
      "  - parameters upper bounds :  321.6801 \n",
      "  - best initial criterion value(s) :  -276.7845 \n",
      "\n",
      "N = 1, M = 5 machine precision = 2.22045e-16\n",
      "At X0, 0 variables are exactly at the bounds\n",
      "At iterate     0  f=       276.78  |proj g|=    0.0031298\n",
      "At iterate     1  f =       276.78  |proj g|=     0.0031297\n",
      "At iterate     2  f =       276.73  |proj g|=             0\n",
      "\n",
      "iterations 2\n",
      "function evaluations 3\n",
      "segments explored during Cauchy searches 2\n",
      "BFGS updates skipped 0\n",
      "active bounds at final generalized Cauchy point 1\n",
      "norm of the final projected gradient 0\n",
      "final function value 276.735\n",
      "\n",
      "F = 276.735\n",
      "final  value 276.734943 \n",
      "converged\n"
     ]
    },
    {
     "name": "stderr",
     "output_type": "stream",
     "text": [
      "[mbo] 15: x=1.97 : y = 2.63e+03 : 0.0 secs : infill_ei\n",
      "\n"
     ]
    },
    {
     "name": "stdout",
     "output_type": "stream",
     "text": [
      "\n",
      "optimisation start\n",
      "------------------\n",
      "* estimation method   : MLE \n",
      "* optimisation method : BFGS \n",
      "* analytical gradient : used\n",
      "* trend model : ~1\n",
      "* covariance model : \n",
      "  - type :  matern3_2 \n",
      "  - nugget : NO\n",
      "  - parameters lower bounds :  1e-10 \n",
      "  - parameters upper bounds :  321.6801 \n",
      "  - best initial criterion value(s) :  -289.2548 \n",
      "\n",
      "N = 1, M = 5 machine precision = 2.22045e-16\n",
      "At X0, 0 variables are exactly at the bounds\n",
      "At iterate     0  f=       289.25  |proj g|=    0.0037356\n",
      "At iterate     1  f =       289.25  |proj g|=     0.0037354\n",
      "At iterate     2  f =        289.2  |proj g|=             0\n",
      "\n",
      "iterations 2\n",
      "function evaluations 3\n",
      "segments explored during Cauchy searches 2\n",
      "BFGS updates skipped 0\n",
      "active bounds at final generalized Cauchy point 1\n",
      "norm of the final projected gradient 0\n",
      "final function value 289.2\n",
      "\n",
      "F = 289.2\n",
      "final  value 289.199506 \n",
      "converged\n"
     ]
    },
    {
     "name": "stderr",
     "output_type": "stream",
     "text": [
      "[mbo] 16: x=22.4 : y = -7.1e+04 : 0.0 secs : infill_ei\n",
      "\n"
     ]
    },
    {
     "name": "stdout",
     "output_type": "stream",
     "text": [
      "\n",
      "optimisation start\n",
      "------------------\n",
      "* estimation method   : MLE \n",
      "* optimisation method : BFGS \n",
      "* analytical gradient : used\n",
      "* trend model : ~1\n",
      "* covariance model : \n",
      "  - type :  matern3_2 \n",
      "  - nugget : NO\n",
      "  - parameters lower bounds :  1e-10 \n",
      "  - parameters upper bounds :  321.6801 \n",
      "  - best initial criterion value(s) :  -302.1808 \n",
      "\n",
      "N = 1, M = 5 machine precision = 2.22045e-16\n",
      "At X0, 0 variables are exactly at the bounds\n",
      "At iterate     0  f=       302.18  |proj g|=    0.0039264\n",
      "At iterate     1  f =       302.18  |proj g|=     0.0039263\n",
      "At iterate     2  f =       302.16  |proj g|=             0\n",
      "\n",
      "iterations 2\n",
      "function evaluations 3\n",
      "segments explored during Cauchy searches 2\n",
      "BFGS updates skipped 0\n",
      "active bounds at final generalized Cauchy point 1\n",
      "norm of the final projected gradient 0\n",
      "final function value 302.157\n",
      "\n",
      "F = 302.157\n",
      "final  value 302.156770 \n",
      "converged\n"
     ]
    },
    {
     "name": "stderr",
     "output_type": "stream",
     "text": [
      "[mbo] 17: x=-11 : y = 3.07e+04 : 0.0 secs : infill_ei\n",
      "\n"
     ]
    },
    {
     "name": "stdout",
     "output_type": "stream",
     "text": [
      "\n",
      "optimisation start\n",
      "------------------\n",
      "* estimation method   : MLE \n",
      "* optimisation method : BFGS \n",
      "* analytical gradient : used\n",
      "* trend model : ~1\n",
      "* covariance model : \n",
      "  - type :  matern3_2 \n",
      "  - nugget : NO\n",
      "  - parameters lower bounds :  1e-10 \n",
      "  - parameters upper bounds :  321.6801 \n",
      "  - best initial criterion value(s) :  -314.4545 \n",
      "\n",
      "N = 1, M = 5 machine precision = 2.22045e-16\n",
      "At X0, 0 variables are exactly at the bounds\n",
      "At iterate     0  f=       314.45  |proj g|=    0.0064011\n",
      "At iterate     1  f =       314.45  |proj g|=     0.0064007\n",
      "At iterate     2  f =       314.25  |proj g|=             0\n",
      "\n",
      "iterations 2\n",
      "function evaluations 3\n",
      "segments explored during Cauchy searches 2\n",
      "BFGS updates skipped 0\n",
      "active bounds at final generalized Cauchy point 1\n",
      "norm of the final projected gradient 0\n",
      "final function value 314.254\n",
      "\n",
      "F = 314.254\n",
      "final  value 314.254430 \n",
      "converged\n"
     ]
    },
    {
     "name": "stderr",
     "output_type": "stream",
     "text": [
      "[mbo] 18: x=-4.41 : y = 3.4e+04 : 0.0 secs : infill_ei\n",
      "\n"
     ]
    },
    {
     "name": "stdout",
     "output_type": "stream",
     "text": [
      "\n",
      "optimisation start\n",
      "------------------\n",
      "* estimation method   : MLE \n",
      "* optimisation method : BFGS \n",
      "* analytical gradient : used\n",
      "* trend model : ~1\n",
      "* covariance model : \n",
      "  - type :  matern3_2 \n",
      "  - nugget : NO\n",
      "  - parameters lower bounds :  1e-10 \n",
      "  - parameters upper bounds :  321.6801 \n",
      "  - best initial criterion value(s) :  -326.0532 \n",
      "\n",
      "N = 1, M = 5 machine precision = 2.22045e-16\n",
      "At X0, 0 variables are exactly at the bounds\n",
      "At iterate     0  f=       326.05  |proj g|=    0.0052228\n",
      "At iterate     1  f =       326.05  |proj g|=     0.0052225\n",
      "At iterate     2  f =       326.02  |proj g|=             0\n",
      "\n",
      "iterations 2\n",
      "function evaluations 3\n",
      "segments explored during Cauchy searches 2\n",
      "BFGS updates skipped 0\n",
      "active bounds at final generalized Cauchy point 1\n",
      "norm of the final projected gradient 0\n",
      "final function value 326.017\n",
      "\n",
      "F = 326.017\n",
      "final  value 326.016760 \n",
      "converged\n"
     ]
    },
    {
     "name": "stderr",
     "output_type": "stream",
     "text": [
      "[mbo] 19: x=-6.72 : y = 4.31e+04 : 0.0 secs : infill_ei\n",
      "\n"
     ]
    },
    {
     "name": "stdout",
     "output_type": "stream",
     "text": [
      "\n",
      "optimisation start\n",
      "------------------\n",
      "* estimation method   : MLE \n",
      "* optimisation method : BFGS \n",
      "* analytical gradient : used\n",
      "* trend model : ~1\n",
      "* covariance model : \n",
      "  - type :  matern3_2 \n",
      "  - nugget : NO\n",
      "  - parameters lower bounds :  1e-10 \n",
      "  - parameters upper bounds :  321.6801 \n",
      "  - best initial criterion value(s) :  -337.2923 \n",
      "\n",
      "N = 1, M = 5 machine precision = 2.22045e-16\n",
      "At X0, 0 variables are exactly at the bounds\n",
      "At iterate     0  f=       337.29  |proj g|=    0.0060463\n",
      "At iterate     1  f =       337.29  |proj g|=      0.006046\n",
      "At iterate     2  f =       337.23  |proj g|=             0\n",
      "\n",
      "iterations 2\n",
      "function evaluations 3\n",
      "segments explored during Cauchy searches 2\n",
      "BFGS updates skipped 0\n",
      "active bounds at final generalized Cauchy point 1\n",
      "norm of the final projected gradient 0\n",
      "final function value 337.231\n",
      "\n",
      "F = 337.231\n",
      "final  value 337.231466 \n",
      "converged\n"
     ]
    },
    {
     "name": "stderr",
     "output_type": "stream",
     "text": [
      "[mbo] 20: x=-1.59 : y = 1.85e+04 : 0.0 secs : infill_ei\n",
      "\n"
     ]
    },
    {
     "name": "stdout",
     "output_type": "stream",
     "text": [
      "\n",
      "optimisation start\n",
      "------------------\n",
      "* estimation method   : MLE \n",
      "* optimisation method : BFGS \n",
      "* analytical gradient : used\n",
      "* trend model : ~1\n",
      "* covariance model : \n",
      "  - type :  matern3_2 \n",
      "  - nugget : NO\n",
      "  - parameters lower bounds :  1e-10 \n",
      "  - parameters upper bounds :  321.6801 \n",
      "  - best initial criterion value(s) :  -349.3163 \n",
      "\n",
      "N = 1, M = 5 machine precision = 2.22045e-16\n",
      "At X0, 0 variables are exactly at the bounds\n",
      "At iterate     0  f=       349.32  |proj g|=     0.009195\n",
      "At iterate     1  f =       349.32  |proj g|=     0.0091942\n",
      "At iterate     2  f =       348.99  |proj g|=             0\n",
      "\n",
      "iterations 2\n",
      "function evaluations 3\n",
      "segments explored during Cauchy searches 2\n",
      "BFGS updates skipped 0\n",
      "active bounds at final generalized Cauchy point 1\n",
      "norm of the final projected gradient 0\n",
      "final function value 348.99\n",
      "\n",
      "F = 348.99\n",
      "final  value 348.990053 \n",
      "converged\n"
     ]
    },
    {
     "name": "stderr",
     "output_type": "stream",
     "text": [
      "[mbo] 21: x=-8.53 : y = 4.41e+04 : 0.0 secs : infill_ei\n",
      "\n"
     ]
    },
    {
     "name": "stdout",
     "output_type": "stream",
     "text": [
      "\n",
      "optimisation start\n",
      "------------------\n",
      "* estimation method   : MLE \n",
      "* optimisation method : BFGS \n",
      "* analytical gradient : used\n",
      "* trend model : ~1\n",
      "* covariance model : \n",
      "  - type :  matern3_2 \n",
      "  - nugget : NO\n",
      "  - parameters lower bounds :  1e-10 \n",
      "  - parameters upper bounds :  321.6801 \n",
      "  - best initial criterion value(s) :  -360.4523 \n",
      "\n",
      "N = 1, M = 5 machine precision = 2.22045e-16\n",
      "At X0, 0 variables are exactly at the bounds\n",
      "At iterate     0  f=       360.45  |proj g|=     0.010506\n",
      "At iterate     1  f =       360.45  |proj g|=      0.010505\n",
      "At iterate     2  f =       360.04  |proj g|=             0\n",
      "\n",
      "iterations 2\n",
      "function evaluations 3\n",
      "segments explored during Cauchy searches 2\n",
      "BFGS updates skipped 0\n",
      "active bounds at final generalized Cauchy point 1\n",
      "norm of the final projected gradient 0\n",
      "final function value 360.044\n",
      "\n",
      "F = 360.044\n",
      "final  value 360.043647 \n",
      "converged\n"
     ]
    },
    {
     "name": "stderr",
     "output_type": "stream",
     "text": [
      "[mbo] 22: x=13.6 : y = 2.01e+04 : 0.0 secs : infill_ei\n",
      "\n"
     ]
    },
    {
     "name": "stdout",
     "output_type": "stream",
     "text": [
      "\n",
      "optimisation start\n",
      "------------------\n",
      "* estimation method   : MLE \n",
      "* optimisation method : BFGS \n",
      "* analytical gradient : used\n",
      "* trend model : ~1\n",
      "* covariance model : \n",
      "  - type :  matern3_2 \n",
      "  - nugget : NO\n",
      "  - parameters lower bounds :  1e-10 \n",
      "  - parameters upper bounds :  321.6801 \n",
      "  - best initial criterion value(s) :  -371.8399 \n",
      "\n",
      "N = 1, M = 5 machine precision = 2.22045e-16\n",
      "At X0, 0 variables are exactly at the bounds\n",
      "At iterate     0  f=       371.84  |proj g|=    0.0092227\n",
      "At iterate     1  f =       371.84  |proj g|=     0.0092219\n",
      "At iterate     2  f =       371.62  |proj g|=             0\n",
      "\n",
      "iterations 2\n",
      "function evaluations 3\n",
      "segments explored during Cauchy searches 2\n",
      "BFGS updates skipped 0\n",
      "active bounds at final generalized Cauchy point 1\n",
      "norm of the final projected gradient 0\n",
      "final function value 371.622\n",
      "\n",
      "F = 371.622\n",
      "final  value 371.621827 \n",
      "converged\n"
     ]
    },
    {
     "name": "stderr",
     "output_type": "stream",
     "text": [
      "[mbo] 23: x=-14.3 : y = -3.2e+04 : 0.0 secs : infill_ei\n",
      "\n"
     ]
    },
    {
     "name": "stdout",
     "output_type": "stream",
     "text": [
      "\n",
      "optimisation start\n",
      "------------------\n",
      "* estimation method   : MLE \n",
      "* optimisation method : BFGS \n",
      "* analytical gradient : used\n",
      "* trend model : ~1\n",
      "* covariance model : \n",
      "  - type :  matern3_2 \n",
      "  - nugget : NO\n",
      "  - parameters lower bounds :  1e-10 \n",
      "  - parameters upper bounds :  321.6801 \n",
      "  - best initial criterion value(s) :  -383.7178 \n",
      "\n",
      "N = 1, M = 5 machine precision = 2.22045e-16\n",
      "At X0, 0 variables are exactly at the bounds\n",
      "At iterate     0  f=       383.72  |proj g|=    0.0087166\n",
      "At iterate     1  f =       383.72  |proj g|=      0.008716\n",
      "At iterate     2  f =       383.62  |proj g|=             0\n",
      "\n",
      "iterations 2\n",
      "function evaluations 3\n",
      "segments explored during Cauchy searches 2\n",
      "BFGS updates skipped 0\n",
      "active bounds at final generalized Cauchy point 1\n",
      "norm of the final projected gradient 0\n",
      "final function value 383.617\n",
      "\n",
      "F = 383.617\n",
      "final  value 383.616508 \n",
      "converged\n"
     ]
    },
    {
     "name": "stderr",
     "output_type": "stream",
     "text": [
      "[mbo] 24: x=16 : y = 2.03e+04 : 0.0 secs : infill_ei\n",
      "\n"
     ]
    },
    {
     "name": "stdout",
     "output_type": "stream",
     "text": [
      "\n",
      "optimisation start\n",
      "------------------\n",
      "* estimation method   : MLE \n",
      "* optimisation method : BFGS \n",
      "* analytical gradient : used\n",
      "* trend model : ~1\n",
      "* covariance model : \n",
      "  - type :  matern3_2 \n",
      "  - nugget : NO\n",
      "  - parameters lower bounds :  1e-10 \n",
      "  - parameters upper bounds :  321.6801 \n",
      "  - best initial criterion value(s) :  -395.5013 \n",
      "\n",
      "N = 1, M = 5 machine precision = 2.22045e-16\n",
      "At X0, 0 variables are exactly at the bounds\n",
      "At iterate     0  f=        395.5  |proj g|=     0.012167\n",
      "At iterate     1  f =        395.5  |proj g|=      0.012166\n",
      "At iterate     2  f =       395.08  |proj g|=             0\n",
      "\n",
      "iterations 2\n",
      "function evaluations 3\n",
      "segments explored during Cauchy searches 2\n",
      "BFGS updates skipped 0\n",
      "active bounds at final generalized Cauchy point 1\n",
      "norm of the final projected gradient 0\n",
      "final function value 395.077\n",
      "\n",
      "F = 395.077\n",
      "final  value 395.077460 \n",
      "converged\n"
     ]
    },
    {
     "name": "stderr",
     "output_type": "stream",
     "text": [
      "[mbo] 25: x=11 : y = 1.24e+04 : 0.0 secs : infill_ei\n",
      "\n"
     ]
    },
    {
     "name": "stdout",
     "output_type": "stream",
     "text": [
      "\n",
      "optimisation start\n",
      "------------------\n",
      "* estimation method   : MLE \n",
      "* optimisation method : BFGS \n",
      "* analytical gradient : used\n",
      "* trend model : ~1\n",
      "* covariance model : \n",
      "  - type :  matern3_2 \n",
      "  - nugget : NO\n",
      "  - parameters lower bounds :  1e-10 \n",
      "  - parameters upper bounds :  321.6801 \n",
      "  - best initial criterion value(s) :  -406.9817 \n",
      "\n",
      "N = 1, M = 5 machine precision = 2.22045e-16\n",
      "At X0, 0 variables are exactly at the bounds\n",
      "At iterate     0  f=       406.98  |proj g|=      0.01222\n",
      "At iterate     1  f =       406.98  |proj g|=      0.012218\n",
      "At iterate     2  f =       406.61  |proj g|=             0\n",
      "\n",
      "iterations 2\n",
      "function evaluations 3\n",
      "segments explored during Cauchy searches 2\n",
      "BFGS updates skipped 0\n",
      "active bounds at final generalized Cauchy point 1\n",
      "norm of the final projected gradient 0\n",
      "final function value 406.612\n",
      "\n",
      "F = 406.612\n",
      "final  value 406.611538 \n",
      "converged\n"
     ]
    }
   ],
   "source": [
    "run  <- mbo( fun=      obj.fun, \n",
    "             learner= fproxy, \n",
    "             control= ctrl )"
   ]
  },
  {
   "cell_type": "code",
   "execution_count": 9,
   "metadata": {
    "tags": [],
    "vscode": {
     "languageId": "r"
    }
   },
   "outputs": [],
   "source": [
    "tb_resultados  <- as.data.table( run$opt.path )"
   ]
  },
  {
   "cell_type": "code",
   "execution_count": 10,
   "metadata": {
    "tags": [],
    "vscode": {
     "languageId": "r"
    }
   },
   "outputs": [
    {
     "data": {
      "text/html": [
       "<table class=\"dataframe\">\n",
       "<caption>A data.table: 29 × 13</caption>\n",
       "<thead>\n",
       "\t<tr><th scope=col>x</th><th scope=col>y</th><th scope=col>dob</th><th scope=col>eol</th><th scope=col>error.message</th><th scope=col>exec.time</th><th scope=col>ei</th><th scope=col>error.model</th><th scope=col>train.time</th><th scope=col>prop.type</th><th scope=col>propose.time</th><th scope=col>se</th><th scope=col>mean</th></tr>\n",
       "\t<tr><th scope=col>&lt;dbl&gt;</th><th scope=col>&lt;dbl&gt;</th><th scope=col>&lt;int&gt;</th><th scope=col>&lt;int&gt;</th><th scope=col>&lt;chr&gt;</th><th scope=col>&lt;dbl&gt;</th><th scope=col>&lt;dbl&gt;</th><th scope=col>&lt;chr&gt;</th><th scope=col>&lt;dbl&gt;</th><th scope=col>&lt;chr&gt;</th><th scope=col>&lt;dbl&gt;</th><th scope=col>&lt;dbl&gt;</th><th scope=col>&lt;dbl&gt;</th></tr>\n",
       "</thead>\n",
       "<tbody>\n",
       "\t<tr><td> -0.08265348</td><td> 1.076373e+04</td><td> 0</td><td>NA</td><td>NA</td><td>0.03</td><td>          NA</td><td>NA</td><td>  NA</td><td>initdesign</td><td>  NA</td><td>        NA</td><td>           NA</td></tr>\n",
       "\t<tr><td> 19.83299155</td><td>-1.181599e+04</td><td> 0</td><td>NA</td><td>NA</td><td>0.00</td><td>          NA</td><td>NA</td><td>  NA</td><td>initdesign</td><td>  NA</td><td>        NA</td><td>           NA</td></tr>\n",
       "\t<tr><td> 77.60946675</td><td>-5.595362e+07</td><td> 0</td><td>NA</td><td>NA</td><td>0.00</td><td>          NA</td><td>NA</td><td>  NA</td><td>initdesign</td><td>  NA</td><td>        NA</td><td>           NA</td></tr>\n",
       "\t<tr><td>-83.23060056</td><td>-1.117256e+08</td><td> 0</td><td>NA</td><td>NA</td><td>0.00</td><td>          NA</td><td>NA</td><td>  NA</td><td>initdesign</td><td>  NA</td><td>        NA</td><td>           NA</td></tr>\n",
       "\t<tr><td>  9.72147246</td><td> 7.712832e+03</td><td> 1</td><td>NA</td><td>NA</td><td>0.00</td><td>-4364682.439</td><td>NA</td><td>0.03</td><td>infill_ei </td><td>0.19</td><td>6483475.99</td><td> 3.019742e+06</td></tr>\n",
       "\t<tr><td> 32.30840845</td><td>-8.945240e+05</td><td> 2</td><td>NA</td><td>NA</td><td>0.00</td><td> -894344.039</td><td>NA</td><td>0.02</td><td>infill_ei </td><td>0.20</td><td>7929301.44</td><td>-6.617211e+06</td></tr>\n",
       "\t<tr><td> 25.98323306</td><td>-2.375449e+05</td><td> 3</td><td>NA</td><td>NA</td><td>0.00</td><td> -672843.239</td><td>NA</td><td>0.01</td><td>infill_ei </td><td>0.19</td><td>1413377.27</td><td> 2.167796e+05</td></tr>\n",
       "\t<tr><td>  4.14118343</td><td>-1.661869e+03</td><td> 4</td><td>NA</td><td>NA</td><td>0.00</td><td> -496093.602</td><td>NA</td><td>0.02</td><td>infill_ei </td><td>0.19</td><td> 824465.73</td><td> 3.039593e+05</td></tr>\n",
       "\t<tr><td> 14.81112866</td><td> 2.149566e+04</td><td> 5</td><td>NA</td><td>NA</td><td>0.00</td><td> -264367.944</td><td>NA</td><td>0.05</td><td>infill_ei </td><td>0.22</td><td> 611317.13</td><td> 5.069873e+04</td></tr>\n",
       "\t<tr><td> -9.44819984</td><td> 4.137693e+04</td><td> 6</td><td>NA</td><td>NA</td><td>0.00</td><td> -187128.965</td><td>NA</td><td>0.02</td><td>infill_ei </td><td>0.17</td><td>2882589.04</td><td>-3.229807e+06</td></tr>\n",
       "\t<tr><td> -5.70416273</td><td> 3.986101e+04</td><td> 7</td><td>NA</td><td>NA</td><td>0.00</td><td> -363905.444</td><td>NA</td><td>0.01</td><td>infill_ei </td><td>0.19</td><td> 527618.68</td><td> 2.989996e+05</td></tr>\n",
       "\t<tr><td>-15.85042499</td><td>-8.557819e+04</td><td> 8</td><td>NA</td><td>NA</td><td>0.00</td><td>  -85824.743</td><td>NA</td><td>0.01</td><td>infill_ei </td><td>0.19</td><td>1572603.95</td><td>-1.866862e+06</td></tr>\n",
       "\t<tr><td>-12.89170652</td><td> 2.183497e+03</td><td> 9</td><td>NA</td><td>NA</td><td>0.00</td><td> -163726.090</td><td>NA</td><td>0.02</td><td>infill_ei </td><td>0.19</td><td> 285309.43</td><td> 1.302334e+05</td></tr>\n",
       "\t<tr><td> -2.98898551</td><td> 2.633831e+04</td><td>10</td><td>NA</td><td>NA</td><td>0.00</td><td>  -69617.078</td><td>NA</td><td>0.05</td><td>infill_ei </td><td>0.20</td><td> 194165.30</td><td> 2.514881e+04</td></tr>\n",
       "\t<tr><td> 17.25393002</td><td> 1.544182e+04</td><td>11</td><td>NA</td><td>NA</td><td>0.00</td><td>  -56846.903</td><td>NA</td><td>0.02</td><td>infill_ei </td><td>0.20</td><td> 167595.68</td><td> 2.029184e+04</td></tr>\n",
       "\t<tr><td>  6.99087873</td><td>-1.747820e+01</td><td>12</td><td>NA</td><td>NA</td><td>0.00</td><td>  -52705.068</td><td>NA</td><td>0.02</td><td>infill_ei </td><td>0.19</td><td> 179140.98</td><td> 7.022712e+01</td></tr>\n",
       "\t<tr><td> 12.32333017</td><td> 1.678283e+04</td><td>13</td><td>NA</td><td>NA</td><td>0.00</td><td>  -44745.924</td><td>NA</td><td>0.02</td><td>infill_ei </td><td>0.20</td><td> 140380.10</td><td> 1.720534e+04</td></tr>\n",
       "\t<tr><td> -7.63038279</td><td> 4.447903e+04</td><td>14</td><td>NA</td><td>NA</td><td>0.00</td><td>  -40113.257</td><td>NA</td><td>0.01</td><td>infill_ei </td><td>0.19</td><td>  92828.86</td><td> 4.738182e+04</td></tr>\n",
       "\t<tr><td>  1.97432469</td><td> 2.628366e+03</td><td>15</td><td>NA</td><td>NA</td><td>0.00</td><td>  -24180.577</td><td>NA</td><td>0.01</td><td>infill_ei </td><td>0.25</td><td> 104742.77</td><td> 2.708877e+03</td></tr>\n",
       "\t<tr><td> 22.37162984</td><td>-7.102497e+04</td><td>16</td><td>NA</td><td>NA</td><td>0.00</td><td>  -20966.796</td><td>NA</td><td>0.01</td><td>infill_ei </td><td>0.21</td><td> 170268.17</td><td>-8.940053e+04</td></tr>\n",
       "\t<tr><td>-10.95210202</td><td> 3.072703e+04</td><td>17</td><td>NA</td><td>NA</td><td>0.00</td><td>  -19160.099</td><td>NA</td><td>0.03</td><td>infill_ei </td><td>0.20</td><td>  72010.81</td><td> 2.274588e+04</td></tr>\n",
       "\t<tr><td> -4.40951929</td><td> 3.400144e+04</td><td>18</td><td>NA</td><td>NA</td><td>0.00</td><td>  -15836.059</td><td>NA</td><td>0.03</td><td>infill_ei </td><td>0.20</td><td>  51798.25</td><td> 3.397529e+04</td></tr>\n",
       "\t<tr><td> -6.72165076</td><td> 4.308446e+04</td><td>19</td><td>NA</td><td>NA</td><td>0.00</td><td>  -11296.112</td><td>NA</td><td>0.01</td><td>infill_ei </td><td>0.22</td><td>  29940.25</td><td> 4.315919e+04</td></tr>\n",
       "\t<tr><td> -1.59433755</td><td> 1.854956e+04</td><td>20</td><td>NA</td><td>NA</td><td>0.00</td><td>  -10154.438</td><td>NA</td><td>0.03</td><td>infill_ei </td><td>0.24</td><td>  51552.91</td><td> 1.856445e+04</td></tr>\n",
       "\t<tr><td> -8.52949340</td><td> 4.407096e+04</td><td>21</td><td>NA</td><td>NA</td><td>0.00</td><td>   -9842.553</td><td>NA</td><td>0.03</td><td>infill_ei </td><td>0.21</td><td>  25460.63</td><td> 4.384316e+04</td></tr>\n",
       "\t<tr><td> 13.59315562</td><td> 2.008456e+04</td><td>22</td><td>NA</td><td>NA</td><td>0.00</td><td>   -7640.865</td><td>NA</td><td>0.02</td><td>infill_ei </td><td>0.22</td><td>  43006.69</td><td> 2.005823e+04</td></tr>\n",
       "\t<tr><td>-14.30329939</td><td>-3.199906e+04</td><td>23</td><td>NA</td><td>NA</td><td>0.00</td><td>   -6408.134</td><td>NA</td><td>0.00</td><td>infill_ei </td><td>0.22</td><td>  59037.84</td><td>-6.132109e+03</td></tr>\n",
       "\t<tr><td> 16.04108372</td><td> 2.026328e+04</td><td>24</td><td>NA</td><td>NA</td><td>0.00</td><td>   -6130.423</td><td>NA</td><td>0.01</td><td>infill_ei </td><td>0.22</td><td>  38221.60</td><td> 2.037011e+04</td></tr>\n",
       "\t<tr><td> 11.02524005</td><td> 1.237842e+04</td><td>25</td><td>NA</td><td>NA</td><td>0.00</td><td>   -5111.983</td><td>NA</td><td>0.06</td><td>infill_ei </td><td>0.28</td><td>  41108.24</td><td> 1.238658e+04</td></tr>\n",
       "</tbody>\n",
       "</table>\n"
      ],
      "text/latex": [
       "A data.table: 29 × 13\n",
       "\\begin{tabular}{lllllllllllll}\n",
       " x & y & dob & eol & error.message & exec.time & ei & error.model & train.time & prop.type & propose.time & se & mean\\\\\n",
       " <dbl> & <dbl> & <int> & <int> & <chr> & <dbl> & <dbl> & <chr> & <dbl> & <chr> & <dbl> & <dbl> & <dbl>\\\\\n",
       "\\hline\n",
       "\t  -0.08265348 &  1.076373e+04 &  0 & NA & NA & 0.03 &           NA & NA &   NA & initdesign &   NA &         NA &            NA\\\\\n",
       "\t  19.83299155 & -1.181599e+04 &  0 & NA & NA & 0.00 &           NA & NA &   NA & initdesign &   NA &         NA &            NA\\\\\n",
       "\t  77.60946675 & -5.595362e+07 &  0 & NA & NA & 0.00 &           NA & NA &   NA & initdesign &   NA &         NA &            NA\\\\\n",
       "\t -83.23060056 & -1.117256e+08 &  0 & NA & NA & 0.00 &           NA & NA &   NA & initdesign &   NA &         NA &            NA\\\\\n",
       "\t   9.72147246 &  7.712832e+03 &  1 & NA & NA & 0.00 & -4364682.439 & NA & 0.03 & infill\\_ei  & 0.19 & 6483475.99 &  3.019742e+06\\\\\n",
       "\t  32.30840845 & -8.945240e+05 &  2 & NA & NA & 0.00 &  -894344.039 & NA & 0.02 & infill\\_ei  & 0.20 & 7929301.44 & -6.617211e+06\\\\\n",
       "\t  25.98323306 & -2.375449e+05 &  3 & NA & NA & 0.00 &  -672843.239 & NA & 0.01 & infill\\_ei  & 0.19 & 1413377.27 &  2.167796e+05\\\\\n",
       "\t   4.14118343 & -1.661869e+03 &  4 & NA & NA & 0.00 &  -496093.602 & NA & 0.02 & infill\\_ei  & 0.19 &  824465.73 &  3.039593e+05\\\\\n",
       "\t  14.81112866 &  2.149566e+04 &  5 & NA & NA & 0.00 &  -264367.944 & NA & 0.05 & infill\\_ei  & 0.22 &  611317.13 &  5.069873e+04\\\\\n",
       "\t  -9.44819984 &  4.137693e+04 &  6 & NA & NA & 0.00 &  -187128.965 & NA & 0.02 & infill\\_ei  & 0.17 & 2882589.04 & -3.229807e+06\\\\\n",
       "\t  -5.70416273 &  3.986101e+04 &  7 & NA & NA & 0.00 &  -363905.444 & NA & 0.01 & infill\\_ei  & 0.19 &  527618.68 &  2.989996e+05\\\\\n",
       "\t -15.85042499 & -8.557819e+04 &  8 & NA & NA & 0.00 &   -85824.743 & NA & 0.01 & infill\\_ei  & 0.19 & 1572603.95 & -1.866862e+06\\\\\n",
       "\t -12.89170652 &  2.183497e+03 &  9 & NA & NA & 0.00 &  -163726.090 & NA & 0.02 & infill\\_ei  & 0.19 &  285309.43 &  1.302334e+05\\\\\n",
       "\t  -2.98898551 &  2.633831e+04 & 10 & NA & NA & 0.00 &   -69617.078 & NA & 0.05 & infill\\_ei  & 0.20 &  194165.30 &  2.514881e+04\\\\\n",
       "\t  17.25393002 &  1.544182e+04 & 11 & NA & NA & 0.00 &   -56846.903 & NA & 0.02 & infill\\_ei  & 0.20 &  167595.68 &  2.029184e+04\\\\\n",
       "\t   6.99087873 & -1.747820e+01 & 12 & NA & NA & 0.00 &   -52705.068 & NA & 0.02 & infill\\_ei  & 0.19 &  179140.98 &  7.022712e+01\\\\\n",
       "\t  12.32333017 &  1.678283e+04 & 13 & NA & NA & 0.00 &   -44745.924 & NA & 0.02 & infill\\_ei  & 0.20 &  140380.10 &  1.720534e+04\\\\\n",
       "\t  -7.63038279 &  4.447903e+04 & 14 & NA & NA & 0.00 &   -40113.257 & NA & 0.01 & infill\\_ei  & 0.19 &   92828.86 &  4.738182e+04\\\\\n",
       "\t   1.97432469 &  2.628366e+03 & 15 & NA & NA & 0.00 &   -24180.577 & NA & 0.01 & infill\\_ei  & 0.25 &  104742.77 &  2.708877e+03\\\\\n",
       "\t  22.37162984 & -7.102497e+04 & 16 & NA & NA & 0.00 &   -20966.796 & NA & 0.01 & infill\\_ei  & 0.21 &  170268.17 & -8.940053e+04\\\\\n",
       "\t -10.95210202 &  3.072703e+04 & 17 & NA & NA & 0.00 &   -19160.099 & NA & 0.03 & infill\\_ei  & 0.20 &   72010.81 &  2.274588e+04\\\\\n",
       "\t  -4.40951929 &  3.400144e+04 & 18 & NA & NA & 0.00 &   -15836.059 & NA & 0.03 & infill\\_ei  & 0.20 &   51798.25 &  3.397529e+04\\\\\n",
       "\t  -6.72165076 &  4.308446e+04 & 19 & NA & NA & 0.00 &   -11296.112 & NA & 0.01 & infill\\_ei  & 0.22 &   29940.25 &  4.315919e+04\\\\\n",
       "\t  -1.59433755 &  1.854956e+04 & 20 & NA & NA & 0.00 &   -10154.438 & NA & 0.03 & infill\\_ei  & 0.24 &   51552.91 &  1.856445e+04\\\\\n",
       "\t  -8.52949340 &  4.407096e+04 & 21 & NA & NA & 0.00 &    -9842.553 & NA & 0.03 & infill\\_ei  & 0.21 &   25460.63 &  4.384316e+04\\\\\n",
       "\t  13.59315562 &  2.008456e+04 & 22 & NA & NA & 0.00 &    -7640.865 & NA & 0.02 & infill\\_ei  & 0.22 &   43006.69 &  2.005823e+04\\\\\n",
       "\t -14.30329939 & -3.199906e+04 & 23 & NA & NA & 0.00 &    -6408.134 & NA & 0.00 & infill\\_ei  & 0.22 &   59037.84 & -6.132109e+03\\\\\n",
       "\t  16.04108372 &  2.026328e+04 & 24 & NA & NA & 0.00 &    -6130.423 & NA & 0.01 & infill\\_ei  & 0.22 &   38221.60 &  2.037011e+04\\\\\n",
       "\t  11.02524005 &  1.237842e+04 & 25 & NA & NA & 0.00 &    -5111.983 & NA & 0.06 & infill\\_ei  & 0.28 &   41108.24 &  1.238658e+04\\\\\n",
       "\\end{tabular}\n"
      ],
      "text/markdown": [
       "\n",
       "A data.table: 29 × 13\n",
       "\n",
       "| x &lt;dbl&gt; | y &lt;dbl&gt; | dob &lt;int&gt; | eol &lt;int&gt; | error.message &lt;chr&gt; | exec.time &lt;dbl&gt; | ei &lt;dbl&gt; | error.model &lt;chr&gt; | train.time &lt;dbl&gt; | prop.type &lt;chr&gt; | propose.time &lt;dbl&gt; | se &lt;dbl&gt; | mean &lt;dbl&gt; |\n",
       "|---|---|---|---|---|---|---|---|---|---|---|---|---|\n",
       "|  -0.08265348 |  1.076373e+04 |  0 | NA | NA | 0.03 |           NA | NA |   NA | initdesign |   NA |         NA |            NA |\n",
       "|  19.83299155 | -1.181599e+04 |  0 | NA | NA | 0.00 |           NA | NA |   NA | initdesign |   NA |         NA |            NA |\n",
       "|  77.60946675 | -5.595362e+07 |  0 | NA | NA | 0.00 |           NA | NA |   NA | initdesign |   NA |         NA |            NA |\n",
       "| -83.23060056 | -1.117256e+08 |  0 | NA | NA | 0.00 |           NA | NA |   NA | initdesign |   NA |         NA |            NA |\n",
       "|   9.72147246 |  7.712832e+03 |  1 | NA | NA | 0.00 | -4364682.439 | NA | 0.03 | infill_ei  | 0.19 | 6483475.99 |  3.019742e+06 |\n",
       "|  32.30840845 | -8.945240e+05 |  2 | NA | NA | 0.00 |  -894344.039 | NA | 0.02 | infill_ei  | 0.20 | 7929301.44 | -6.617211e+06 |\n",
       "|  25.98323306 | -2.375449e+05 |  3 | NA | NA | 0.00 |  -672843.239 | NA | 0.01 | infill_ei  | 0.19 | 1413377.27 |  2.167796e+05 |\n",
       "|   4.14118343 | -1.661869e+03 |  4 | NA | NA | 0.00 |  -496093.602 | NA | 0.02 | infill_ei  | 0.19 |  824465.73 |  3.039593e+05 |\n",
       "|  14.81112866 |  2.149566e+04 |  5 | NA | NA | 0.00 |  -264367.944 | NA | 0.05 | infill_ei  | 0.22 |  611317.13 |  5.069873e+04 |\n",
       "|  -9.44819984 |  4.137693e+04 |  6 | NA | NA | 0.00 |  -187128.965 | NA | 0.02 | infill_ei  | 0.17 | 2882589.04 | -3.229807e+06 |\n",
       "|  -5.70416273 |  3.986101e+04 |  7 | NA | NA | 0.00 |  -363905.444 | NA | 0.01 | infill_ei  | 0.19 |  527618.68 |  2.989996e+05 |\n",
       "| -15.85042499 | -8.557819e+04 |  8 | NA | NA | 0.00 |   -85824.743 | NA | 0.01 | infill_ei  | 0.19 | 1572603.95 | -1.866862e+06 |\n",
       "| -12.89170652 |  2.183497e+03 |  9 | NA | NA | 0.00 |  -163726.090 | NA | 0.02 | infill_ei  | 0.19 |  285309.43 |  1.302334e+05 |\n",
       "|  -2.98898551 |  2.633831e+04 | 10 | NA | NA | 0.00 |   -69617.078 | NA | 0.05 | infill_ei  | 0.20 |  194165.30 |  2.514881e+04 |\n",
       "|  17.25393002 |  1.544182e+04 | 11 | NA | NA | 0.00 |   -56846.903 | NA | 0.02 | infill_ei  | 0.20 |  167595.68 |  2.029184e+04 |\n",
       "|   6.99087873 | -1.747820e+01 | 12 | NA | NA | 0.00 |   -52705.068 | NA | 0.02 | infill_ei  | 0.19 |  179140.98 |  7.022712e+01 |\n",
       "|  12.32333017 |  1.678283e+04 | 13 | NA | NA | 0.00 |   -44745.924 | NA | 0.02 | infill_ei  | 0.20 |  140380.10 |  1.720534e+04 |\n",
       "|  -7.63038279 |  4.447903e+04 | 14 | NA | NA | 0.00 |   -40113.257 | NA | 0.01 | infill_ei  | 0.19 |   92828.86 |  4.738182e+04 |\n",
       "|   1.97432469 |  2.628366e+03 | 15 | NA | NA | 0.00 |   -24180.577 | NA | 0.01 | infill_ei  | 0.25 |  104742.77 |  2.708877e+03 |\n",
       "|  22.37162984 | -7.102497e+04 | 16 | NA | NA | 0.00 |   -20966.796 | NA | 0.01 | infill_ei  | 0.21 |  170268.17 | -8.940053e+04 |\n",
       "| -10.95210202 |  3.072703e+04 | 17 | NA | NA | 0.00 |   -19160.099 | NA | 0.03 | infill_ei  | 0.20 |   72010.81 |  2.274588e+04 |\n",
       "|  -4.40951929 |  3.400144e+04 | 18 | NA | NA | 0.00 |   -15836.059 | NA | 0.03 | infill_ei  | 0.20 |   51798.25 |  3.397529e+04 |\n",
       "|  -6.72165076 |  4.308446e+04 | 19 | NA | NA | 0.00 |   -11296.112 | NA | 0.01 | infill_ei  | 0.22 |   29940.25 |  4.315919e+04 |\n",
       "|  -1.59433755 |  1.854956e+04 | 20 | NA | NA | 0.00 |   -10154.438 | NA | 0.03 | infill_ei  | 0.24 |   51552.91 |  1.856445e+04 |\n",
       "|  -8.52949340 |  4.407096e+04 | 21 | NA | NA | 0.00 |    -9842.553 | NA | 0.03 | infill_ei  | 0.21 |   25460.63 |  4.384316e+04 |\n",
       "|  13.59315562 |  2.008456e+04 | 22 | NA | NA | 0.00 |    -7640.865 | NA | 0.02 | infill_ei  | 0.22 |   43006.69 |  2.005823e+04 |\n",
       "| -14.30329939 | -3.199906e+04 | 23 | NA | NA | 0.00 |    -6408.134 | NA | 0.00 | infill_ei  | 0.22 |   59037.84 | -6.132109e+03 |\n",
       "|  16.04108372 |  2.026328e+04 | 24 | NA | NA | 0.00 |    -6130.423 | NA | 0.01 | infill_ei  | 0.22 |   38221.60 |  2.037011e+04 |\n",
       "|  11.02524005 |  1.237842e+04 | 25 | NA | NA | 0.00 |    -5111.983 | NA | 0.06 | infill_ei  | 0.28 |   41108.24 |  1.238658e+04 |\n",
       "\n"
      ],
      "text/plain": [
       "   x            y             dob eol error.message exec.time ei          \n",
       "1   -0.08265348  1.076373e+04  0  NA  NA            0.03                NA\n",
       "2   19.83299155 -1.181599e+04  0  NA  NA            0.00                NA\n",
       "3   77.60946675 -5.595362e+07  0  NA  NA            0.00                NA\n",
       "4  -83.23060056 -1.117256e+08  0  NA  NA            0.00                NA\n",
       "5    9.72147246  7.712832e+03  1  NA  NA            0.00      -4364682.439\n",
       "6   32.30840845 -8.945240e+05  2  NA  NA            0.00       -894344.039\n",
       "7   25.98323306 -2.375449e+05  3  NA  NA            0.00       -672843.239\n",
       "8    4.14118343 -1.661869e+03  4  NA  NA            0.00       -496093.602\n",
       "9   14.81112866  2.149566e+04  5  NA  NA            0.00       -264367.944\n",
       "10  -9.44819984  4.137693e+04  6  NA  NA            0.00       -187128.965\n",
       "11  -5.70416273  3.986101e+04  7  NA  NA            0.00       -363905.444\n",
       "12 -15.85042499 -8.557819e+04  8  NA  NA            0.00        -85824.743\n",
       "13 -12.89170652  2.183497e+03  9  NA  NA            0.00       -163726.090\n",
       "14  -2.98898551  2.633831e+04 10  NA  NA            0.00        -69617.078\n",
       "15  17.25393002  1.544182e+04 11  NA  NA            0.00        -56846.903\n",
       "16   6.99087873 -1.747820e+01 12  NA  NA            0.00        -52705.068\n",
       "17  12.32333017  1.678283e+04 13  NA  NA            0.00        -44745.924\n",
       "18  -7.63038279  4.447903e+04 14  NA  NA            0.00        -40113.257\n",
       "19   1.97432469  2.628366e+03 15  NA  NA            0.00        -24180.577\n",
       "20  22.37162984 -7.102497e+04 16  NA  NA            0.00        -20966.796\n",
       "21 -10.95210202  3.072703e+04 17  NA  NA            0.00        -19160.099\n",
       "22  -4.40951929  3.400144e+04 18  NA  NA            0.00        -15836.059\n",
       "23  -6.72165076  4.308446e+04 19  NA  NA            0.00        -11296.112\n",
       "24  -1.59433755  1.854956e+04 20  NA  NA            0.00        -10154.438\n",
       "25  -8.52949340  4.407096e+04 21  NA  NA            0.00         -9842.553\n",
       "26  13.59315562  2.008456e+04 22  NA  NA            0.00         -7640.865\n",
       "27 -14.30329939 -3.199906e+04 23  NA  NA            0.00         -6408.134\n",
       "28  16.04108372  2.026328e+04 24  NA  NA            0.00         -6130.423\n",
       "29  11.02524005  1.237842e+04 25  NA  NA            0.00         -5111.983\n",
       "   error.model train.time prop.type  propose.time se         mean         \n",
       "1  NA            NA       initdesign   NA                 NA            NA\n",
       "2  NA            NA       initdesign   NA                 NA            NA\n",
       "3  NA            NA       initdesign   NA                 NA            NA\n",
       "4  NA            NA       initdesign   NA                 NA            NA\n",
       "5  NA          0.03       infill_ei  0.19         6483475.99  3.019742e+06\n",
       "6  NA          0.02       infill_ei  0.20         7929301.44 -6.617211e+06\n",
       "7  NA          0.01       infill_ei  0.19         1413377.27  2.167796e+05\n",
       "8  NA          0.02       infill_ei  0.19          824465.73  3.039593e+05\n",
       "9  NA          0.05       infill_ei  0.22          611317.13  5.069873e+04\n",
       "10 NA          0.02       infill_ei  0.17         2882589.04 -3.229807e+06\n",
       "11 NA          0.01       infill_ei  0.19          527618.68  2.989996e+05\n",
       "12 NA          0.01       infill_ei  0.19         1572603.95 -1.866862e+06\n",
       "13 NA          0.02       infill_ei  0.19          285309.43  1.302334e+05\n",
       "14 NA          0.05       infill_ei  0.20          194165.30  2.514881e+04\n",
       "15 NA          0.02       infill_ei  0.20          167595.68  2.029184e+04\n",
       "16 NA          0.02       infill_ei  0.19          179140.98  7.022712e+01\n",
       "17 NA          0.02       infill_ei  0.20          140380.10  1.720534e+04\n",
       "18 NA          0.01       infill_ei  0.19           92828.86  4.738182e+04\n",
       "19 NA          0.01       infill_ei  0.25          104742.77  2.708877e+03\n",
       "20 NA          0.01       infill_ei  0.21          170268.17 -8.940053e+04\n",
       "21 NA          0.03       infill_ei  0.20           72010.81  2.274588e+04\n",
       "22 NA          0.03       infill_ei  0.20           51798.25  3.397529e+04\n",
       "23 NA          0.01       infill_ei  0.22           29940.25  4.315919e+04\n",
       "24 NA          0.03       infill_ei  0.24           51552.91  1.856445e+04\n",
       "25 NA          0.03       infill_ei  0.21           25460.63  4.384316e+04\n",
       "26 NA          0.02       infill_ei  0.22           43006.69  2.005823e+04\n",
       "27 NA          0.00       infill_ei  0.22           59037.84 -6.132109e+03\n",
       "28 NA          0.01       infill_ei  0.22           38221.60  2.037011e+04\n",
       "29 NA          0.06       infill_ei  0.28           41108.24  1.238658e+04"
      ]
     },
     "metadata": {},
     "output_type": "display_data"
    }
   ],
   "source": [
    "tb_resultados"
   ]
  },
  {
   "cell_type": "code",
   "execution_count": 11,
   "metadata": {
    "tags": [],
    "vscode": {
     "languageId": "r"
    }
   },
   "outputs": [
    {
     "data": {
      "text/html": [
       "<table class=\"dataframe\">\n",
       "<caption>A data.table: 1 × 13</caption>\n",
       "<thead>\n",
       "\t<tr><th scope=col>x</th><th scope=col>y</th><th scope=col>dob</th><th scope=col>eol</th><th scope=col>error.message</th><th scope=col>exec.time</th><th scope=col>ei</th><th scope=col>error.model</th><th scope=col>train.time</th><th scope=col>prop.type</th><th scope=col>propose.time</th><th scope=col>se</th><th scope=col>mean</th></tr>\n",
       "\t<tr><th scope=col>&lt;dbl&gt;</th><th scope=col>&lt;dbl&gt;</th><th scope=col>&lt;int&gt;</th><th scope=col>&lt;int&gt;</th><th scope=col>&lt;chr&gt;</th><th scope=col>&lt;dbl&gt;</th><th scope=col>&lt;dbl&gt;</th><th scope=col>&lt;chr&gt;</th><th scope=col>&lt;dbl&gt;</th><th scope=col>&lt;chr&gt;</th><th scope=col>&lt;dbl&gt;</th><th scope=col>&lt;dbl&gt;</th><th scope=col>&lt;dbl&gt;</th></tr>\n",
       "</thead>\n",
       "<tbody>\n",
       "\t<tr><td>-7.630383</td><td>44479.03</td><td>14</td><td>NA</td><td>NA</td><td>0</td><td>-40113.26</td><td>NA</td><td>0.01</td><td>infill_ei</td><td>0.19</td><td>92828.86</td><td>47381.82</td></tr>\n",
       "</tbody>\n",
       "</table>\n"
      ],
      "text/latex": [
       "A data.table: 1 × 13\n",
       "\\begin{tabular}{lllllllllllll}\n",
       " x & y & dob & eol & error.message & exec.time & ei & error.model & train.time & prop.type & propose.time & se & mean\\\\\n",
       " <dbl> & <dbl> & <int> & <int> & <chr> & <dbl> & <dbl> & <chr> & <dbl> & <chr> & <dbl> & <dbl> & <dbl>\\\\\n",
       "\\hline\n",
       "\t -7.630383 & 44479.03 & 14 & NA & NA & 0 & -40113.26 & NA & 0.01 & infill\\_ei & 0.19 & 92828.86 & 47381.82\\\\\n",
       "\\end{tabular}\n"
      ],
      "text/markdown": [
       "\n",
       "A data.table: 1 × 13\n",
       "\n",
       "| x &lt;dbl&gt; | y &lt;dbl&gt; | dob &lt;int&gt; | eol &lt;int&gt; | error.message &lt;chr&gt; | exec.time &lt;dbl&gt; | ei &lt;dbl&gt; | error.model &lt;chr&gt; | train.time &lt;dbl&gt; | prop.type &lt;chr&gt; | propose.time &lt;dbl&gt; | se &lt;dbl&gt; | mean &lt;dbl&gt; |\n",
       "|---|---|---|---|---|---|---|---|---|---|---|---|---|\n",
       "| -7.630383 | 44479.03 | 14 | NA | NA | 0 | -40113.26 | NA | 0.01 | infill_ei | 0.19 | 92828.86 | 47381.82 |\n",
       "\n"
      ],
      "text/plain": [
       "  x         y        dob eol error.message exec.time ei        error.model\n",
       "1 -7.630383 44479.03 14  NA  NA            0         -40113.26 NA         \n",
       "  train.time prop.type propose.time se       mean    \n",
       "1 0.01       infill_ei 0.19         92828.86 47381.82"
      ]
     },
     "metadata": {},
     "output_type": "display_data"
    }
   ],
   "source": [
    "tb_resultados[ which.max( tb_resultados$y ) ]"
   ]
  },
  {
   "cell_type": "markdown",
   "metadata": {},
   "source": [
    "### Conclusiones"
   ]
  },
  {
   "cell_type": "markdown",
   "metadata": {},
   "source": [
    "La gran pregunta es :  la Optimización Bayesiana, ¿se focaliza luego de muchas iteraciones solo en el entorno del máximo que está cerca de x= -8 ?"
   ]
  }
 ],
 "metadata": {
  "kernelspec": {
   "display_name": "R",
   "language": "R",
   "name": "ir"
  },
  "language_info": {
   "codemirror_mode": "r",
   "file_extension": ".r",
   "mimetype": "text/x-r-source",
   "name": "R",
   "pygments_lexer": "r",
   "version": "4.2.2"
  }
 },
 "nbformat": 4,
 "nbformat_minor": 4
}
